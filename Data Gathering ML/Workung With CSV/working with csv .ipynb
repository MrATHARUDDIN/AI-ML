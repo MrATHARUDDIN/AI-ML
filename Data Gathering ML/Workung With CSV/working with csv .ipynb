{
 "cells": [
  {
   "cell_type": "markdown",
   "id": "7f1ef64c-a0c5-4e1e-8252-35abc9b911e5",
   "metadata": {},
   "source": [
    "# Import pandas and Read the CSV file"
   ]
  },
  {
   "cell_type": "code",
   "execution_count": 2,
   "id": "b51d1809-a420-4980-bc8f-f108d49fbb84",
   "metadata": {},
   "outputs": [],
   "source": [
    "import pandas as pd \n",
    "dff = pd.read_csv(\"fifa_ranking.csv\")"
   ]
  },
  {
   "cell_type": "markdown",
   "id": "7b90cc24-865e-44b4-843f-2dd7cb5c1e7e",
   "metadata": {},
   "source": [
    "# Csv File Opening With Link"
   ]
  },
  {
   "cell_type": "code",
   "execution_count": null,
   "id": "d5120e06-3601-4d7e-994e-67ed20493f76",
   "metadata": {},
   "outputs": [],
   "source": [
    "import requests\n",
    "import io\n",
    "import pandas as pd\n",
    "\n",
    "# URL of the CSV file from the API\n",
    "url = \"\"\n",
    "\n",
    "# Fetch the CSV file\n",
    "response = requests.get(url)\n",
    "\n",
    "# Read CSV into a pandas DataFrame\n",
    "csv_data = io.StringIO(response.text)\n",
    "df = pd.read_csv(csv_data)\n",
    "\n",
    "# Display the first few rows\n",
    "print(df.head())"
   ]
  },
  {
   "cell_type": "markdown",
   "id": "f16fc8de-50c3-42d3-8663-d42fba35d7cd",
   "metadata": {},
   "source": [
    "# Tsv file Open "
   ]
  },
  {
   "cell_type": "code",
   "execution_count": 23,
   "id": "927b9556-7969-4b07-857f-2ddfb125be82",
   "metadata": {},
   "outputs": [
    {
     "name": "stdout",
     "output_type": "stream",
     "text": [
      "  sno                  Movie Name release_year  rating     votes  \\\n",
      "0  m0  10 things i hate about you         1999     6.9   62847.0   \n",
      "1  m1  1492: conquest of paradise         1992     6.2   10421.0   \n",
      "2  m2                  15 minutes         2001     6.1   25854.0   \n",
      "3  m3       2001: a space odyssey         1968     8.4  163227.0   \n",
      "4  m4                     48 hrs.         1982     6.9   22289.0   \n",
      "\n",
      "                                           genres  \n",
      "0                            ['comedy' 'romance']  \n",
      "1     ['adventure' 'biography' 'drama' 'history']  \n",
      "2           ['action' 'crime' 'drama' 'thriller']  \n",
      "3                ['adventure' 'mystery' 'sci-fi']  \n",
      "4  ['action' 'comedy' 'crime' 'drama' 'thriller']  \n"
     ]
    }
   ],
   "source": [
    "# Read a TSV (tab-separated) file. \n",
    "# sep=\"\\t\" tells pandas to split columns at each tab character.\n",
    "# names=[...] provides custom column names for the DataFrame.\n",
    "data = pd.read_csv(\"demo.tsv\", sep=\"\\t\", names=['sno','Movie Name','release_year','rating','votes','genres'])\n",
    "print(data.head(5))"
   ]
  },
  {
   "cell_type": "code",
   "execution_count": 26,
   "id": "b350b475-aa57-4fab-b920-7cc76662e09d",
   "metadata": {},
   "outputs": [
    {
     "name": "stdout",
     "output_type": "stream",
     "text": [
      "                 city  city_development_index gender      relevent_experience  \\\n",
      "enrollee_id                                                                     \n",
      "8949         city_103                   0.920   Male  Has relevent experience   \n",
      "29725         city_40                   0.776   Male   No relevent experience   \n",
      "11561         city_21                   0.624    NaN   No relevent experience   \n",
      "33241        city_115                   0.789    NaN   No relevent experience   \n",
      "666          city_162                   0.767   Male  Has relevent experience   \n",
      "...               ...                     ...    ...                      ...   \n",
      "7386         city_173                   0.878   Male   No relevent experience   \n",
      "31398        city_103                   0.920   Male  Has relevent experience   \n",
      "24576        city_103                   0.920   Male  Has relevent experience   \n",
      "5756          city_65                   0.802   Male  Has relevent experience   \n",
      "23834         city_67                   0.855    NaN   No relevent experience   \n",
      "\n",
      "            enrolled_university education_level major_discipline experience  \\\n",
      "enrollee_id                                                                   \n",
      "8949              no_enrollment        Graduate             STEM        >20   \n",
      "29725             no_enrollment        Graduate             STEM         15   \n",
      "11561          Full time course        Graduate             STEM          5   \n",
      "33241                       NaN        Graduate  Business Degree         <1   \n",
      "666               no_enrollment         Masters             STEM        >20   \n",
      "...                         ...             ...              ...        ...   \n",
      "7386              no_enrollment        Graduate       Humanities         14   \n",
      "31398             no_enrollment        Graduate             STEM         14   \n",
      "24576             no_enrollment        Graduate             STEM        >20   \n",
      "5756              no_enrollment     High School              NaN         <1   \n",
      "23834             no_enrollment  Primary School              NaN          2   \n",
      "\n",
      "            company_size    company_type last_new_job  training_hours  target  \n",
      "enrollee_id                                                                    \n",
      "8949                 NaN             NaN            1              36     1.0  \n",
      "29725              50-99         Pvt Ltd           >4              47     0.0  \n",
      "11561                NaN             NaN        never              83     0.0  \n",
      "33241                NaN         Pvt Ltd        never              52     1.0  \n",
      "666                50-99  Funded Startup            4               8     0.0  \n",
      "...                  ...             ...          ...             ...     ...  \n",
      "7386                 NaN             NaN            1              42     1.0  \n",
      "31398                NaN             NaN            4              52     1.0  \n",
      "24576              50-99         Pvt Ltd            4              44     0.0  \n",
      "5756             500-999         Pvt Ltd            2              97     0.0  \n",
      "23834                NaN             NaN            1             127     0.0  \n",
      "\n",
      "[19158 rows x 13 columns]\n"
     ]
    }
   ],
   "source": [
    "train_data = pd.read_csv(\"train.csv\", index_col=\"enrollee_id\") # making the Index Column\n",
    "print(train_data)"
   ]
  },
  {
   "cell_type": "markdown",
   "id": "1a658e55-e879-4da1-9923-b58284b7204e",
   "metadata": {},
   "source": [
    "# Header parameter"
   ]
  },
  {
   "cell_type": "code",
   "execution_count": 4,
   "id": "49ab2170-7cb9-4a60-930d-5ed317894583",
   "metadata": {},
   "outputs": [
    {
     "name": "stdout",
     "output_type": "stream",
     "text": [
      "   0  enrollee_id      city  city_development_index gender  \\\n",
      "0  1        29725   city_40                   0.776   Male   \n",
      "1  2        11561   city_21                   0.624    NaN   \n",
      "2  3        33241  city_115                   0.789    NaN   \n",
      "3  4          666  city_162                   0.767   Male   \n",
      "\n",
      "       relevent_experience enrolled_university education_level  \\\n",
      "0   No relevent experience       no_enrollment        Graduate   \n",
      "1   No relevent experience    Full time course        Graduate   \n",
      "2   No relevent experience                 NaN        Graduate   \n",
      "3  Has relevent experience       no_enrollment         Masters   \n",
      "\n",
      "  major_discipline experience company_size    company_type last_new_job  \\\n",
      "0             STEM         15        50-99         Pvt Ltd           >4   \n",
      "1             STEM          5          NaN             NaN        never   \n",
      "2  Business Degree         <1          NaN         Pvt Ltd        never   \n",
      "3             STEM        >20        50-99  Funded Startup            4   \n",
      "\n",
      "   training_hours  target  \n",
      "0              47       0  \n",
      "1              83       0  \n",
      "2              52       1  \n",
      "3               8       0  \n"
     ]
    }
   ],
   "source": [
    "test = pd.read_csv(\"demo_test.csv\", header=1)\n",
    "print(test)"
   ]
  },
  {
   "cell_type": "markdown",
   "id": "53d07b0f-f53f-4085-838b-2eabd763d0e4",
   "metadata": {},
   "source": [
    "# use_cols parameter"
   ]
  },
  {
   "cell_type": "code",
   "execution_count": 8,
   "id": "6d737231-9f11-4901-b152-d5884caffc25",
   "metadata": {},
   "outputs": [
    {
     "name": "stdout",
     "output_type": "stream",
     "text": [
      "            gender education_level\n",
      "enrollee_id                       \n",
      "8949          Male        Graduate\n",
      "29725         Male        Graduate\n",
      "11561          NaN        Graduate\n",
      "33241          NaN        Graduate\n",
      "666           Male         Masters\n",
      "...            ...             ...\n",
      "7386          Male        Graduate\n",
      "31398         Male        Graduate\n",
      "24576         Male        Graduate\n",
      "5756          Male     High School\n",
      "23834          NaN  Primary School\n",
      "\n",
      "[19158 rows x 2 columns]\n"
     ]
    }
   ],
   "source": [
    "value = pd.read_csv(\"train.csv\", index_col=\"enrollee_id\", usecols=['enrollee_id','gender','education_level'])\n",
    "print(value)"
   ]
  },
  {
   "cell_type": "markdown",
   "id": "a379bc98-7fb2-4082-b671-3a0a7c98e928",
   "metadata": {},
   "source": [
    "# Skiprows/nrows Parameter"
   ]
  },
  {
   "cell_type": "code",
   "execution_count": 25,
   "id": "4d0d0e45-480e-4a00-86a1-919616db77f6",
   "metadata": {},
   "outputs": [
    {
     "name": "stdout",
     "output_type": "stream",
     "text": [
      "     8949  city_103   0.92  Male  Has relevent experience     no_enrollment  \\\n",
      "0   29725   city_40  0.776  Male   No relevent experience     no_enrollment   \n",
      "1   11561   city_21  0.624   NaN   No relevent experience  Full time course   \n",
      "2   33241  city_115  0.789   NaN   No relevent experience               NaN   \n",
      "3     666  city_162  0.767  Male  Has relevent experience     no_enrollment   \n",
      "4   21651  city_176  0.764   NaN  Has relevent experience  Part time course   \n",
      "..    ...       ...    ...   ...                      ...               ...   \n",
      "95   7364  city_160  0.920   NaN   No relevent experience  Full time course   \n",
      "96  11184   city_74  0.579   NaN   No relevent experience  Full time course   \n",
      "97   7016   city_65  0.802  Male  Has relevent experience     no_enrollment   \n",
      "98   8695   city_11  0.550  Male  Has relevent experience     no_enrollment   \n",
      "99   6172   city_11  0.550  Male  Has relevent experience     no_enrollment   \n",
      "\n",
      "       Graduate             STEM  >20 Unnamed: 9     Unnamed: 10      1   36  \\\n",
      "0      Graduate             STEM   15      50-99         Pvt Ltd     >4   47   \n",
      "1      Graduate             STEM    5        NaN             NaN  never   83   \n",
      "2      Graduate  Business Degree   <1        NaN         Pvt Ltd  never   52   \n",
      "3       Masters             STEM  >20      50-99  Funded Startup      4    8   \n",
      "4      Graduate             STEM   11        NaN             NaN      1   24   \n",
      "..          ...              ...  ...        ...             ...    ...  ...   \n",
      "95  High School              NaN    2    100-500         Pvt Ltd      1  142   \n",
      "96     Graduate             STEM    2    100-500         Pvt Ltd      1   34   \n",
      "97     Graduate             STEM    6      50-99         Pvt Ltd      2   14   \n",
      "98     Graduate             STEM    6      10/49         Pvt Ltd      2   27   \n",
      "99     Graduate             STEM    8    100-500         Pvt Ltd      1   24   \n",
      "\n",
      "    1.0  \n",
      "0   0.0  \n",
      "1   0.0  \n",
      "2   1.0  \n",
      "3   0.0  \n",
      "4   1.0  \n",
      "..  ...  \n",
      "95  0.0  \n",
      "96  0.0  \n",
      "97  1.0  \n",
      "98  1.0  \n",
      "99  1.0  \n",
      "\n",
      "[100 rows x 14 columns]\n"
     ]
    }
   ],
   "source": [
    "sque = pd.read_csv('train.csv',skiprows=1, nrows=100) # skip the 1st row and read until 100\n",
    "print(sque)"
   ]
  },
  {
   "cell_type": "markdown",
   "id": "25586ce0-56aa-428c-ad03-be038ca983e5",
   "metadata": {},
   "source": [
    "# Encoding \n",
    "### Computers store text as bytes (0s and 1s). \n",
    "### Encoding is the mapping between characters and bytes.\n",
    "### Genarally Programe/file Encoded in UTF-8 but if it's not UTF-8 we need to Specify the Encoding "
   ]
  },
  {
   "cell_type": "code",
   "execution_count": 28,
   "id": "6ba19bc1-3cee-41e8-bbd3-f94568ddf183",
   "metadata": {},
   "outputs": [
    {
     "name": "stdout",
     "output_type": "stream",
     "text": [
      "   Restaurant ID         Restaurant Name  Country Code              City  \\\n",
      "0        6317637        Le Petit Souffle           162       Makati City   \n",
      "1        6304287        Izakaya Kikufuji           162       Makati City   \n",
      "2        6300002  Heat - Edsa Shangri-La           162  Mandaluyong City   \n",
      "3        6318506                    Ooma           162  Mandaluyong City   \n",
      "4        6314302             Sambo Kojin           162  Mandaluyong City   \n",
      "\n",
      "                                             Address  \\\n",
      "0  Third Floor, Century City Mall, Kalayaan Avenu...   \n",
      "1  Little Tokyo, 2277 Chino Roces Avenue, Legaspi...   \n",
      "2  Edsa Shangri-La, 1 Garden Way, Ortigas, Mandal...   \n",
      "3  Third Floor, Mega Fashion Hall, SM Megamall, O...   \n",
      "4  Third Floor, Mega Atrium, SM Megamall, Ortigas...   \n",
      "\n",
      "                                     Locality  \\\n",
      "0   Century City Mall, Poblacion, Makati City   \n",
      "1  Little Tokyo, Legaspi Village, Makati City   \n",
      "2  Edsa Shangri-La, Ortigas, Mandaluyong City   \n",
      "3      SM Megamall, Ortigas, Mandaluyong City   \n",
      "4      SM Megamall, Ortigas, Mandaluyong City   \n",
      "\n",
      "                                    Locality Verbose   Longitude   Latitude  \\\n",
      "0  Century City Mall, Poblacion, Makati City, Mak...  121.027535  14.565443   \n",
      "1  Little Tokyo, Legaspi Village, Makati City, Ma...  121.014101  14.553708   \n",
      "2  Edsa Shangri-La, Ortigas, Mandaluyong City, Ma...  121.056831  14.581404   \n",
      "3  SM Megamall, Ortigas, Mandaluyong City, Mandal...  121.056475  14.585318   \n",
      "4  SM Megamall, Ortigas, Mandaluyong City, Mandal...  121.057508  14.584450   \n",
      "\n",
      "                           Cuisines  ...          Currency Has Table booking  \\\n",
      "0        French, Japanese, Desserts  ...  Botswana Pula(P)               Yes   \n",
      "1                          Japanese  ...  Botswana Pula(P)               Yes   \n",
      "2  Seafood, Asian, Filipino, Indian  ...  Botswana Pula(P)               Yes   \n",
      "3                   Japanese, Sushi  ...  Botswana Pula(P)                No   \n",
      "4                  Japanese, Korean  ...  Botswana Pula(P)               Yes   \n",
      "\n",
      "  Has Online delivery Is delivering now Switch to order menu Price range  \\\n",
      "0                  No                No                   No           3   \n",
      "1                  No                No                   No           3   \n",
      "2                  No                No                   No           4   \n",
      "3                  No                No                   No           4   \n",
      "4                  No                No                   No           4   \n",
      "\n",
      "   Aggregate rating  Rating color Rating text Votes  \n",
      "0               4.8    Dark Green   Excellent   314  \n",
      "1               4.5    Dark Green   Excellent   591  \n",
      "2               4.4         Green   Very Good   270  \n",
      "3               4.9    Dark Green   Excellent   365  \n",
      "4               4.8    Dark Green   Excellent   229  \n",
      "\n",
      "[5 rows x 21 columns]\n"
     ]
    }
   ],
   "source": [
    "enco = pd.read_csv('zomato.csv',encoding='latin-1')\n",
    "print(enco.head())"
   ]
  },
  {
   "cell_type": "markdown",
   "id": "3a46457e-4b3c-4cdb-9b16-47d7c7a207a2",
   "metadata": {},
   "source": [
    "# Loading a huge dataset in chunks"
   ]
  },
  {
   "cell_type": "code",
   "execution_count": 41,
   "id": "368617cf-dfb2-498c-b1bf-1c264ea03958",
   "metadata": {},
   "outputs": [
    {
     "name": "stdout",
     "output_type": "stream",
     "text": [
      "<pandas.io.parsers.readers.TextFileReader object at 0x000001CC697128F0>\n"
     ]
    }
   ],
   "source": [
    "dfs = pd.read_csv(\"train.csv\", chunksize=200)\n",
    "print(dfs)"
   ]
  },
  {
   "cell_type": "code",
   "execution_count": 40,
   "id": "1a58c675-8468-429e-9bcf-9d2ecd7f43cb",
   "metadata": {},
   "outputs": [],
   "source": [
    "for chunks in dfs:\n",
    "    print(chunk.shape)"
   ]
  },
  {
   "cell_type": "code",
   "execution_count": null,
   "id": "b17a4e9c-4b60-421e-840d-0a156f88e967",
   "metadata": {},
   "outputs": [],
   "source": []
  }
 ],
 "metadata": {
  "kernelspec": {
   "display_name": "Python 3 (ipykernel)",
   "language": "python",
   "name": "python3"
  },
  "language_info": {
   "codemirror_mode": {
    "name": "ipython",
    "version": 3
   },
   "file_extension": ".py",
   "mimetype": "text/x-python",
   "name": "python",
   "nbconvert_exporter": "python",
   "pygments_lexer": "ipython3",
   "version": "3.13.5"
  }
 },
 "nbformat": 4,
 "nbformat_minor": 5
}
