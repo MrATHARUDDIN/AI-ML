{
 "cells": [
  {
   "cell_type": "markdown",
   "id": "b39ce6d2",
   "metadata": {},
   "source": [
    "# How to Work with JSON & SQL File\n",
    "\n",
    "## Step 1 :- Import pandas than read the JSON file with in Build Function"
   ]
  },
  {
   "cell_type": "code",
   "execution_count": 1,
   "id": "937765ad",
   "metadata": {},
   "outputs": [],
   "source": [
    "import pandas as pd"
   ]
  },
  {
   "cell_type": "code",
   "execution_count": 2,
   "id": "e0d318d0",
   "metadata": {},
   "outputs": [
    {
     "name": "stdout",
     "output_type": "stream",
     "text": [
      "          id      cuisine                                        ingredients\n",
      "0      10259        greek  [romaine lettuce, black olives, grape tomatoes...\n",
      "1      25693  southern_us  [plain flour, ground pepper, salt, tomatoes, g...\n",
      "2      20130     filipino  [eggs, pepper, salt, mayonaise, cooking oil, g...\n",
      "3      22213       indian                [water, vegetable oil, wheat, salt]\n",
      "4      13162       indian  [black pepper, shallots, cornflour, cayenne pe...\n",
      "...      ...          ...                                                ...\n",
      "39769  29109        irish  [light brown sugar, granulated sugar, butter, ...\n",
      "39770  11462      italian  [KRAFT Zesty Italian Dressing, purple onion, b...\n",
      "39771   2238        irish  [eggs, citrus fruit, raisins, sourdough starte...\n",
      "39772  41882      chinese  [boneless chicken skinless thigh, minced garli...\n",
      "39773   2362      mexican  [green chile, jalapeno chilies, onions, ground...\n",
      "\n",
      "[39774 rows x 3 columns]\n"
     ]
    }
   ],
   "source": [
    "df = pd.read_json(\"train.json\")\n",
    "print(df)"
   ]
  },
  {
   "cell_type": "code",
   "execution_count": null,
   "id": "38ca9507",
   "metadata": {},
   "outputs": [
    {
     "name": "stderr",
     "output_type": "stream",
     "text": [
      "Access is denied.\n"
     ]
    }
   ],
   "source": []
  },
  {
   "cell_type": "code",
   "execution_count": null,
   "id": "b57cf90b",
   "metadata": {},
   "outputs": [],
   "source": []
  }
 ],
 "metadata": {
  "kernelspec": {
   "display_name": "base",
   "language": "python",
   "name": "python3"
  },
  "language_info": {
   "codemirror_mode": {
    "name": "ipython",
    "version": 3
   },
   "file_extension": ".py",
   "mimetype": "text/x-python",
   "name": "python",
   "nbconvert_exporter": "python",
   "pygments_lexer": "ipython3",
   "version": "3.13.5"
  }
 },
 "nbformat": 4,
 "nbformat_minor": 5
}
